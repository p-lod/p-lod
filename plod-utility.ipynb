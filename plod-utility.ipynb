{
 "cells": [
  {
   "cell_type": "markdown",
   "metadata": {},
   "source": [
    "# Working directly with the Omeka S Backend\n",
    "Opening efforts to directly access and use the data in an Omeka S site. See http://epoehler.umasscreate.net/pbmp for the front-end."
   ]
  },
  {
   "cell_type": "code",
   "execution_count": 1,
   "metadata": {},
   "outputs": [],
   "source": [
    "from fastnumbers import fast_real, isreal\n",
    "import pymysql.cursors\n",
    "import pandas as pd\n",
    "import rdflib\n",
    "from rdflib import URIRef, BNode, Literal, Namespace\n",
    "\n",
    "# display settings\n",
    "from IPython.core.display import display, HTML\n",
    "%matplotlib inline"
   ]
  },
  {
   "cell_type": "code",
   "execution_count": 2,
   "metadata": {},
   "outputs": [],
   "source": [
    "db_params = open(\"mysql.txt\").read().split() # a file on local storage that should never be pushed to a public repo"
   ]
  },
  {
   "cell_type": "code",
   "execution_count": 3,
   "metadata": {},
   "outputs": [],
   "source": [
    "# Connect to the database\n",
    "\n",
    "connection = pymysql.connect(host=db_params[0],\n",
    "                             user=db_params[1],\n",
    "                             password=db_params[2],\n",
    "                             db=db_params[3],\n",
    "                             charset='utf8mb4',\n",
    "                             cursorclass=pymysql.cursors.DictCursor)"
   ]
  },
  {
   "cell_type": "markdown",
   "metadata": {},
   "source": [
    "## 'values' table to triples (in progress)\n",
    "The Omeka S database has a 'values' table that is roughly a translation of the data about items into a triple-like structure. It's very useful but is both very normalized and relies on integer unique ids, not human-readable labels. That's a solid approach for the backend.\n",
    "\n",
    "This is a first go at a single SQL SELECT query that moves the 'values' table towards actual RDF-serialized triples. It's working but I'm sure could be more efficient."
   ]
  },
  {
   "cell_type": "code",
   "execution_count": 4,
   "metadata": {},
   "outputs": [],
   "source": [
    "sql = \"\"\"SELECT subjects.subject,\n",
    "                subjects.predicate,\n",
    "                subjects.object_literal,\n",
    "                subjects.object_uri,\n",
    "                omeka_uris.object_omeka_id \n",
    "\n",
    "         FROM\n",
    "        \n",
    "         (SELECT ids.value AS subject,\n",
    "                CONCAT(vocabulary.namespace_uri, property.local_name) as predicate,\n",
    "                value.value AS object_literal,\n",
    "                value.uri AS object_uri,\n",
    "                value.value_resource_id\n",
    "         \n",
    "           FROM   value,\n",
    "                (SELECT value,resource_id FROM value as v2 WHERE v2.property_id = 10) AS ids,\n",
    "                (SELECT v3.resource_id,v4.value \n",
    "                   FROM value AS v3, value as v4\n",
    "                   WHERE v3.property_id = 185\n",
    "                   AND v3.value_resource_id = v4.resource_id AND v4.property_id = 10) AS types,\n",
    "                property,\n",
    "                vocabulary\n",
    "                \n",
    "           WHERE value.property_id = property.id\n",
    "               AND value.resource_id = ids.resource_id\n",
    "               AND value.resource_id = types.resource_id\n",
    "               AND property.local_name <> 'identifier'\n",
    "               AND property.vocabulary_id = vocabulary.id) AS subjects\n",
    "        \n",
    "        LEFT JOIN\n",
    "        \n",
    "         (SELECT ids.value as subject,\n",
    "                CONCAT(vocabulary.namespace_uri, property.local_name) AS predicate,\n",
    "                v4.value AS object_omeka_id\n",
    "           FROM value,\n",
    "              value AS v4,\n",
    "              vocabulary,\n",
    "              (SELECT value,resource_id FROM value AS v2 WHERE v2.property_id = 10) AS ids,\n",
    "              property WHERE v4.property_id = 10 AND\n",
    "                  value.value_resource_id = v4.resource_id AND\n",
    "                  value.property_id = property.id AND\n",
    "                  value.resource_id = ids.resource_id AND\n",
    "                  property.vocabulary_id = vocabulary.id) AS omeka_uris\n",
    "\n",
    "        ON subjects.subject = omeka_uris.subject AND subjects.predicate = omeka_uris.predicate\"\"\"\n",
    "\n",
    "pbmp_triples_df = pd.read_sql(sql,connection)"
   ]
  },
  {
   "cell_type": "code",
   "execution_count": 5,
   "metadata": {},
   "outputs": [
    {
     "data": {
      "text/html": [
       "<div>\n",
       "<style scoped>\n",
       "    .dataframe tbody tr th:only-of-type {\n",
       "        vertical-align: middle;\n",
       "    }\n",
       "\n",
       "    .dataframe tbody tr th {\n",
       "        vertical-align: top;\n",
       "    }\n",
       "\n",
       "    .dataframe thead th {\n",
       "        text-align: right;\n",
       "    }\n",
       "</style>\n",
       "<table border=\"1\" class=\"dataframe\">\n",
       "  <thead>\n",
       "    <tr style=\"text-align: right;\">\n",
       "      <th></th>\n",
       "      <th>subject</th>\n",
       "      <th>predicate</th>\n",
       "      <th>object_literal</th>\n",
       "      <th>object_uri</th>\n",
       "      <th>object_omeka_id</th>\n",
       "    </tr>\n",
       "  </thead>\n",
       "  <tbody>\n",
       "    <tr>\n",
       "      <th>0</th>\n",
       "      <td>pompeii</td>\n",
       "      <td>http://www.w3.org/1999/02/22-rdf-syntax-ns#type</td>\n",
       "      <td>None</td>\n",
       "      <td>None</td>\n",
       "      <td>archaeological-site</td>\n",
       "    </tr>\n",
       "    <tr>\n",
       "      <th>1</th>\n",
       "      <td>pompeii</td>\n",
       "      <td>http://purl.org/dc/terms/title</td>\n",
       "      <td>The Archaeological Site of Pompeii</td>\n",
       "      <td>None</td>\n",
       "      <td>None</td>\n",
       "    </tr>\n",
       "    <tr>\n",
       "      <th>2</th>\n",
       "      <td>pompeii</td>\n",
       "      <td>http://www.w3.org/2000/01/rdf-schema#seeAlso</td>\n",
       "      <td>Pompeii-in-Pictures</td>\n",
       "      <td>http://pompeiiinpictures.com/</td>\n",
       "      <td>None</td>\n",
       "    </tr>\n",
       "    <tr>\n",
       "      <th>3</th>\n",
       "      <td>pompeii</td>\n",
       "      <td>http://www.w3.org/2000/01/rdf-schema#seeAlso</td>\n",
       "      <td>Pleiades</td>\n",
       "      <td>https://pleiades.stoa.org/places/433032</td>\n",
       "      <td>None</td>\n",
       "    </tr>\n",
       "    <tr>\n",
       "      <th>4</th>\n",
       "      <td>pompeii</td>\n",
       "      <td>http://www.w3.org/2000/01/rdf-schema#seeAlso</td>\n",
       "      <td>Getty LOD</td>\n",
       "      <td>http://vocab.getty.edu/tgn/7004658</td>\n",
       "      <td>None</td>\n",
       "    </tr>\n",
       "  </tbody>\n",
       "</table>\n",
       "</div>"
      ],
      "text/plain": [
       "   subject                                        predicate  \\\n",
       "0  pompeii  http://www.w3.org/1999/02/22-rdf-syntax-ns#type   \n",
       "1  pompeii                   http://purl.org/dc/terms/title   \n",
       "2  pompeii     http://www.w3.org/2000/01/rdf-schema#seeAlso   \n",
       "3  pompeii     http://www.w3.org/2000/01/rdf-schema#seeAlso   \n",
       "4  pompeii     http://www.w3.org/2000/01/rdf-schema#seeAlso   \n",
       "\n",
       "                       object_literal  \\\n",
       "0                                None   \n",
       "1  The Archaeological Site of Pompeii   \n",
       "2                 Pompeii-in-Pictures   \n",
       "3                            Pleiades   \n",
       "4                           Getty LOD   \n",
       "\n",
       "                                object_uri      object_omeka_id  \n",
       "0                                     None  archaeological-site  \n",
       "1                                     None                 None  \n",
       "2            http://pompeiiinpictures.com/                 None  \n",
       "3  https://pleiades.stoa.org/places/433032                 None  \n",
       "4       http://vocab.getty.edu/tgn/7004658                 None  "
      ]
     },
     "execution_count": 5,
     "metadata": {},
     "output_type": "execute_result"
    }
   ],
   "source": [
    "# pbmp_triples_df is now recognizable as an idiosyncratic representation of RDF triples.\n",
    "# The object_* columns need to be processed, but that will happen in the context of loading\n",
    "# into a graph and/or triplestore with rdflib\n",
    "pbmp_triples_df.head() "
   ]
  },
  {
   "cell_type": "code",
   "execution_count": 7,
   "metadata": {},
   "outputs": [],
   "source": [
    "# initialize graph\n",
    "\n",
    "plod_ns = 'http://plod.umass.edu/plod/id/'\n",
    "\n",
    "g = rdflib.Graph()\n",
    "g.bind('plod',plod_ns)\n",
    "g.bind('dcterms','http://purl.org/dc/terms/')\n",
    "g.bind('vra','http://purl.org/vra/')\n",
    "\n",
    "\n",
    "# iterate over each row and add resulting triple to graph.\n",
    "for index,row in pbmp_triples_df.iterrows():\n",
    "    # this is straightforward, just needs an actual URI pattern\n",
    "    s = URIRef(\"{}{}\".format(plod_ns,row[0]))\n",
    "    # also straightforward as the DF holds fully qualified URIs for predicates\n",
    "    p = URIRef(row[1])\n",
    "    \n",
    "    # here's where the (manageable) complexity is\n",
    "    if row[3]:\n",
    "        # it's a external URI reference\n",
    "        o = URIRef(row[3])\n",
    "    elif row[2]:\n",
    "        # it's a literal. For now, everything is a string. Parsing of literal types to come...\n",
    "        if isreal(row[2]):\n",
    "            o = Literal(fast_real(row[2]))\n",
    "        else:\n",
    "            o = Literal(row[2])\n",
    "    elif row[4]:\n",
    "        # it's a reference to a plod resource. Parsing of Class or NamedIndividual to come...\n",
    "        o = URIRef(\"{}{}\".format(plod_ns,row[4]))\n",
    "    else:\n",
    "        o = Literal(\"__PROBLEM__\")\n",
    "    \n",
    "    g.add((s,p,o))\n"
   ]
  },
  {
   "cell_type": "code",
   "execution_count": 8,
   "metadata": {},
   "outputs": [],
   "source": [
    "turtle = g.serialize(format=\"turtle\")\n",
    "\n",
    "# g.serialize(format=\"turtle\")\n",
    "\n",
    "g.serialize(destination='plod.ttl', format='turtle')"
   ]
  },
  {
   "cell_type": "markdown",
   "metadata": {},
   "source": [
    "## Basic Reporting"
   ]
  },
  {
   "cell_type": "code",
   "execution_count": 9,
   "metadata": {},
   "outputs": [
    {
     "data": {
      "text/plain": [
       "predicate          18\n",
       "object_literal      8\n",
       "object_uri          3\n",
       "object_omeka_id     8\n",
       "dtype: int64"
      ]
     },
     "execution_count": 9,
     "metadata": {},
     "output_type": "execute_result"
    }
   ],
   "source": [
    "# what is the max number of triples associated with any subject\n",
    "pbmp_triples_df.groupby(by=\"subject\").count().max()"
   ]
  },
  {
   "cell_type": "code",
   "execution_count": 10,
   "metadata": {},
   "outputs": [
    {
     "data": {
      "text/plain": [
       "1189"
      ]
     },
     "execution_count": 10,
     "metadata": {},
     "output_type": "execute_result"
    }
   ],
   "source": [
    "# number of items about which PBMP makes statements\n",
    "pbmp_triples_df.subject.nunique()"
   ]
  },
  {
   "cell_type": "code",
   "execution_count": 11,
   "metadata": {},
   "outputs": [
    {
     "data": {
      "text/plain": [
       "8343"
      ]
     },
     "execution_count": 11,
     "metadata": {},
     "output_type": "execute_result"
    }
   ],
   "source": [
    "# how many statements/\"triples\"\n",
    "len(pbmp_triples_df)"
   ]
  },
  {
   "cell_type": "code",
   "execution_count": 12,
   "metadata": {},
   "outputs": [],
   "source": [
    "# when the main SQL  query is working, this will be a bar chart of 'types'. As in, how many"
   ]
  },
  {
   "cell_type": "markdown",
   "metadata": {},
   "source": [
    "### Areas"
   ]
  },
  {
   "cell_type": "code",
   "execution_count": 13,
   "metadata": {},
   "outputs": [
    {
     "data": {
      "text/html": [
       "<div>\n",
       "<style scoped>\n",
       "    .dataframe tbody tr th:only-of-type {\n",
       "        vertical-align: middle;\n",
       "    }\n",
       "\n",
       "    .dataframe tbody tr th {\n",
       "        vertical-align: top;\n",
       "    }\n",
       "\n",
       "    .dataframe thead th {\n",
       "        text-align: right;\n",
       "    }\n",
       "</style>\n",
       "<table border=\"1\" class=\"dataframe\">\n",
       "  <thead>\n",
       "    <tr style=\"text-align: right;\">\n",
       "      <th></th>\n",
       "      <th>area</th>\n",
       "    </tr>\n",
       "  </thead>\n",
       "  <tbody>\n",
       "    <tr>\n",
       "      <th>count</th>\n",
       "      <td>1161.000000</td>\n",
       "    </tr>\n",
       "    <tr>\n",
       "      <th>mean</th>\n",
       "      <td>313.229701</td>\n",
       "    </tr>\n",
       "    <tr>\n",
       "      <th>std</th>\n",
       "      <td>840.695221</td>\n",
       "    </tr>\n",
       "    <tr>\n",
       "      <th>min</th>\n",
       "      <td>2.337489</td>\n",
       "    </tr>\n",
       "    <tr>\n",
       "      <th>25%</th>\n",
       "      <td>31.824169</td>\n",
       "    </tr>\n",
       "    <tr>\n",
       "      <th>50%</th>\n",
       "      <td>89.448195</td>\n",
       "    </tr>\n",
       "    <tr>\n",
       "      <th>75%</th>\n",
       "      <td>326.279837</td>\n",
       "    </tr>\n",
       "    <tr>\n",
       "      <th>max</th>\n",
       "      <td>16609.395420</td>\n",
       "    </tr>\n",
       "  </tbody>\n",
       "</table>\n",
       "</div>"
      ],
      "text/plain": [
       "               area\n",
       "count   1161.000000\n",
       "mean     313.229701\n",
       "std      840.695221\n",
       "min        2.337489\n",
       "25%       31.824169\n",
       "50%       89.448195\n",
       "75%      326.279837\n",
       "max    16609.395420"
      ]
     },
     "execution_count": 13,
     "metadata": {},
     "output_type": "execute_result"
    }
   ],
   "source": [
    "pbmp_areas = pbmp_triples_df.query(\"predicate == 'http://purl.org/vra/area'\")[['subject','object_literal']]\n",
    "pbmp_areas['area'] = pbmp_areas['object_literal'].astype(float)\n",
    "\n",
    "pbmp_areas.describe()"
   ]
  },
  {
   "cell_type": "code",
   "execution_count": 14,
   "metadata": {},
   "outputs": [
    {
     "data": {
      "text/plain": [
       "<matplotlib.axes._subplots.AxesSubplot at 0x10c570828>"
      ]
     },
     "execution_count": 14,
     "metadata": {},
     "output_type": "execute_result"
    },
    {
     "data": {
      "image/png": "[encoded data removed]",
      "text/plain": [
       "<Figure size 432x432 with 1 Axes>"
      ]
     },
     "metadata": {},
     "output_type": "display_data"
    }
   ],
   "source": [
    "# simple histogram of all areas\n",
    "pbmp_areas['area'].plot.hist(bins = 40, figsize = (6,6))"
   ]
  },
  {
   "cell_type": "code",
   "execution_count": 15,
   "metadata": {},
   "outputs": [
    {
     "data": {
      "text/plain": [
       "<matplotlib.axes._subplots.AxesSubplot at 0x10c607160>"
      ]
     },
     "execution_count": 15,
     "metadata": {},
     "output_type": "execute_result"
    },
    {
     "data": {
      "image/png": "[encoded data removed]",
      "text/plain": [
       "<Figure size 432x432 with 1 Axes>"
      ]
     },
     "metadata": {},
     "output_type": "display_data"
    }
   ],
   "source": [
    "# simple histogram of areas less than or equal to 5000\n",
    "pbmp_areas.query(\"area <= 5000\").area.plot.hist(bins = 40, figsize = (6,6))"
   ]
  },
  {
   "cell_type": "code",
   "execution_count": 16,
   "metadata": {},
   "outputs": [
    {
     "data": {
      "text/plain": [
       "<matplotlib.axes._subplots.AxesSubplot at 0x10c7a3b70>"
      ]
     },
     "execution_count": 16,
     "metadata": {},
     "output_type": "execute_result"
    },
    {
     "data": {
      "image/png": "[encoded data removed]",
      "text/plain": [
       "<Figure size 432x432 with 1 Axes>"
      ]
     },
     "metadata": {},
     "output_type": "display_data"
    }
   ],
   "source": [
    "# simple histogram of areas less than or equal to 1000\n",
    "pbmp_areas.query(\"area <= 1000\").area.plot.hist(bins = 40, figsize = (6,6))"
   ]
  },
  {
   "cell_type": "code",
   "execution_count": 17,
   "metadata": {},
   "outputs": [
    {
     "data": {
      "text/plain": [
       "<matplotlib.axes._subplots.AxesSubplot at 0x10c898898>"
      ]
     },
     "execution_count": 17,
     "metadata": {},
     "output_type": "execute_result"
    },
    {
     "data": {
      "image/png": "[encoded data removed]",
      "text/plain": [
       "<Figure size 360x720 with 1 Axes>"
      ]
     },
     "metadata": {},
     "output_type": "display_data"
    }
   ],
   "source": [
    "# a boxplot. Will be interesing to look at properties between 600 and 1000. How much\n",
    "# diversity in that set. And everything else!\n",
    "pbmp_areas.query(\"area <= 1000\").boxplot(figsize=(5,10))"
   ]
  },
  {
   "cell_type": "code",
   "execution_count": 18,
   "metadata": {},
   "outputs": [
    {
     "data": {
      "text/html": [
       "<div>\n",
       "<style scoped>\n",
       "    .dataframe tbody tr th:only-of-type {\n",
       "        vertical-align: middle;\n",
       "    }\n",
       "\n",
       "    .dataframe tbody tr th {\n",
       "        vertical-align: top;\n",
       "    }\n",
       "\n",
       "    .dataframe thead th {\n",
       "        text-align: right;\n",
       "    }\n",
       "</style>\n",
       "<table border=\"1\" class=\"dataframe\">\n",
       "  <thead>\n",
       "    <tr style=\"text-align: right;\">\n",
       "      <th></th>\n",
       "      <th>subject</th>\n",
       "      <th>object_literal</th>\n",
       "      <th>area</th>\n",
       "    </tr>\n",
       "  </thead>\n",
       "  <tbody>\n",
       "    <tr>\n",
       "      <th>1489</th>\n",
       "      <td>r2-i7-p9</td>\n",
       "      <td>16609.39542</td>\n",
       "      <td>16609.395420</td>\n",
       "    </tr>\n",
       "    <tr>\n",
       "      <th>1482</th>\n",
       "      <td>r2-i6-p1</td>\n",
       "      <td>13293.1957</td>\n",
       "      <td>13293.195700</td>\n",
       "    </tr>\n",
       "    <tr>\n",
       "      <th>7176</th>\n",
       "      <td>r7-i8-p1</td>\n",
       "      <td>7211.412942</td>\n",
       "      <td>7211.412942</td>\n",
       "    </tr>\n",
       "    <tr>\n",
       "      <th>1475</th>\n",
       "      <td>r2-i5-p2</td>\n",
       "      <td>6195.953697</td>\n",
       "      <td>6195.953697</td>\n",
       "    </tr>\n",
       "    <tr>\n",
       "      <th>1468</th>\n",
       "      <td>r2-i4-p6</td>\n",
       "      <td>5848.017777</td>\n",
       "      <td>5848.017777</td>\n",
       "    </tr>\n",
       "  </tbody>\n",
       "</table>\n",
       "</div>"
      ],
      "text/plain": [
       "       subject object_literal          area\n",
       "1489  r2-i7-p9    16609.39542  16609.395420\n",
       "1482  r2-i6-p1     13293.1957  13293.195700\n",
       "7176  r7-i8-p1    7211.412942   7211.412942\n",
       "1475  r2-i5-p2    6195.953697   6195.953697\n",
       "1468  r2-i4-p6    5848.017777   5848.017777"
      ]
     },
     "execution_count": 18,
     "metadata": {},
     "output_type": "execute_result"
    }
   ],
   "source": [
    "# largest  areas\n",
    "pbmp_areas.sort_values('area', ascending = False).head(5)"
   ]
  },
  {
   "cell_type": "code",
   "execution_count": 19,
   "metadata": {},
   "outputs": [
    {
     "data": {
      "text/html": [
       "<div>\n",
       "<style scoped>\n",
       "    .dataframe tbody tr th:only-of-type {\n",
       "        vertical-align: middle;\n",
       "    }\n",
       "\n",
       "    .dataframe tbody tr th {\n",
       "        vertical-align: top;\n",
       "    }\n",
       "\n",
       "    .dataframe thead th {\n",
       "        text-align: right;\n",
       "    }\n",
       "</style>\n",
       "<table border=\"1\" class=\"dataframe\">\n",
       "  <thead>\n",
       "    <tr style=\"text-align: right;\">\n",
       "      <th></th>\n",
       "      <th>subject</th>\n",
       "      <th>object_literal</th>\n",
       "      <th>area</th>\n",
       "    </tr>\n",
       "  </thead>\n",
       "  <tbody>\n",
       "    <tr>\n",
       "      <th>2270</th>\n",
       "      <td>r9-i11-p7</td>\n",
       "      <td>2.337489069</td>\n",
       "      <td>2.337489</td>\n",
       "    </tr>\n",
       "    <tr>\n",
       "      <th>3046</th>\n",
       "      <td>r9-i7-p6</td>\n",
       "      <td>2.544309543</td>\n",
       "      <td>2.544310</td>\n",
       "    </tr>\n",
       "    <tr>\n",
       "      <th>6644</th>\n",
       "      <td>r7-i4-p5</td>\n",
       "      <td>2.642611718</td>\n",
       "      <td>2.642612</td>\n",
       "    </tr>\n",
       "    <tr>\n",
       "      <th>3067</th>\n",
       "      <td>r9-i7-p9</td>\n",
       "      <td>2.694757373</td>\n",
       "      <td>2.694757</td>\n",
       "    </tr>\n",
       "    <tr>\n",
       "      <th>3025</th>\n",
       "      <td>r9-i7-p3</td>\n",
       "      <td>3.149093733</td>\n",
       "      <td>3.149094</td>\n",
       "    </tr>\n",
       "  </tbody>\n",
       "</table>\n",
       "</div>"
      ],
      "text/plain": [
       "        subject object_literal      area\n",
       "2270  r9-i11-p7    2.337489069  2.337489\n",
       "3046   r9-i7-p6    2.544309543  2.544310\n",
       "6644   r7-i4-p5    2.642611718  2.642612\n",
       "3067   r9-i7-p9    2.694757373  2.694757\n",
       "3025   r9-i7-p3    3.149093733  3.149094"
      ]
     },
     "execution_count": 19,
     "metadata": {},
     "output_type": "execute_result"
    }
   ],
   "source": [
    "# smallest areas\n",
    "pbmp_areas.sort_values('area', ascending = True).head(5)"
   ]
  },
  {
   "cell_type": "markdown",
   "metadata": {},
   "source": [
    "## Direct links to Omeka S Items on the basis of dcterms:identifier\n",
    "This is going to be a hack. But it will move towards using cleaner URLs over time."
   ]
  },
  {
   "cell_type": "code",
   "execution_count": 20,
   "metadata": {},
   "outputs": [
    {
     "data": {
      "text/html": [
       "<p><b>The Largest Properties by Area</b></p>\n",
       "                <p>Link is currently to search results, which is annoying.</p>"
      ],
      "text/plain": [
       "<IPython.core.display.HTML object>"
      ]
     },
     "metadata": {},
     "output_type": "display_data"
    },
    {
     "data": {
      "text/html": [
       "<a target=\"_new\" href=\"http://epoehler.umasscreate.net/pbmp/s/pbmp-items/item?property%5B0%5D%5Bjoiner%5D=and&property%5B0%5D%5Bproperty%5D=10&property%5B0%5D%5Btype%5D=eq&property%5B0%5D%5Btext%5D=r2-i7-p9&property%5B1%5D%5Bjoiner%5D=and&property%5B1%5D%5Bproperty%5D=&property%5B1%5D%5Btype%5D=eq&property%5B1%5D%5Btext%5D=&site_id=&item_set_id%5B%5D=&submit=Search\">r2-i7-p9</a>"
      ],
      "text/plain": [
       "<IPython.core.display.HTML object>"
      ]
     },
     "metadata": {},
     "output_type": "display_data"
    },
    {
     "data": {
      "text/html": [
       "<a target=\"_new\" href=\"http://epoehler.umasscreate.net/pbmp/s/pbmp-items/item?property%5B0%5D%5Bjoiner%5D=and&property%5B0%5D%5Bproperty%5D=10&property%5B0%5D%5Btype%5D=eq&property%5B0%5D%5Btext%5D=r2-i6-p1&property%5B1%5D%5Bjoiner%5D=and&property%5B1%5D%5Bproperty%5D=&property%5B1%5D%5Btype%5D=eq&property%5B1%5D%5Btext%5D=&site_id=&item_set_id%5B%5D=&submit=Search\">r2-i6-p1</a>"
      ],
      "text/plain": [
       "<IPython.core.display.HTML object>"
      ]
     },
     "metadata": {},
     "output_type": "display_data"
    },
    {
     "data": {
      "text/html": [
       "<a target=\"_new\" href=\"http://epoehler.umasscreate.net/pbmp/s/pbmp-items/item?property%5B0%5D%5Bjoiner%5D=and&property%5B0%5D%5Bproperty%5D=10&property%5B0%5D%5Btype%5D=eq&property%5B0%5D%5Btext%5D=r7-i8-p1&property%5B1%5D%5Bjoiner%5D=and&property%5B1%5D%5Bproperty%5D=&property%5B1%5D%5Btype%5D=eq&property%5B1%5D%5Btext%5D=&site_id=&item_set_id%5B%5D=&submit=Search\">r7-i8-p1</a>"
      ],
      "text/plain": [
       "<IPython.core.display.HTML object>"
      ]
     },
     "metadata": {},
     "output_type": "display_data"
    },
    {
     "data": {
      "text/html": [
       "<a target=\"_new\" href=\"http://epoehler.umasscreate.net/pbmp/s/pbmp-items/item?property%5B0%5D%5Bjoiner%5D=and&property%5B0%5D%5Bproperty%5D=10&property%5B0%5D%5Btype%5D=eq&property%5B0%5D%5Btext%5D=r2-i5-p2&property%5B1%5D%5Bjoiner%5D=and&property%5B1%5D%5Bproperty%5D=&property%5B1%5D%5Btype%5D=eq&property%5B1%5D%5Btext%5D=&site_id=&item_set_id%5B%5D=&submit=Search\">r2-i5-p2</a>"
      ],
      "text/plain": [
       "<IPython.core.display.HTML object>"
      ]
     },
     "metadata": {},
     "output_type": "display_data"
    },
    {
     "data": {
      "text/html": [
       "<a target=\"_new\" href=\"http://epoehler.umasscreate.net/pbmp/s/pbmp-items/item?property%5B0%5D%5Bjoiner%5D=and&property%5B0%5D%5Bproperty%5D=10&property%5B0%5D%5Btype%5D=eq&property%5B0%5D%5Btext%5D=r2-i4-p6&property%5B1%5D%5Bjoiner%5D=and&property%5B1%5D%5Bproperty%5D=&property%5B1%5D%5Btype%5D=eq&property%5B1%5D%5Btext%5D=&site_id=&item_set_id%5B%5D=&submit=Search\">r2-i4-p6</a>"
      ],
      "text/plain": [
       "<IPython.core.display.HTML object>"
      ]
     },
     "metadata": {},
     "output_type": "display_data"
    }
   ],
   "source": [
    "link_template = '<a target=\"_new\" href=\"http://epoehler.umasscreate.net/pbmp/s/pbmp-items/item?property%5B0%5D%5Bjoiner%5D=and&property%5B0%5D%5Bproperty%5D=10&property%5B0%5D%5Btype%5D=eq&property%5B0%5D%5Btext%5D={0}&property%5B1%5D%5Bjoiner%5D=and&property%5B1%5D%5Bproperty%5D=&property%5B1%5D%5Btype%5D=eq&property%5B1%5D%5Btext%5D=&site_id=&item_set_id%5B%5D=&submit=Search\">{0}</a>'\n",
    "\n",
    "display(HTML(\"\"\"<p><b>The Largest Properties by Area</b></p>\n",
    "                <p>Link is currently to search results, which is annoying.</p>\"\"\"))\n",
    "for index,link_me in pbmp_areas.sort_values('area', ascending = False).head(5).iterrows():\n",
    "    #print(link_template.format(\"r9-i11-p7\"))\n",
    "    display(HTML(link_template.format(link_me[0])))\n",
    "\n"
   ]
  }
 ],
 "metadata": {
  "kernelspec": {
   "display_name": "Python 3",
   "language": "python",
   "name": "python3"
  },
  "language_info": {
   "codemirror_mode": {
    "name": "ipython",
    "version": 3
   },
   "file_extension": ".py",
   "mimetype": "text/x-python",
   "name": "python",
   "nbconvert_exporter": "python",
   "pygments_lexer": "ipython3",
   "version": "3.6.4"
  }
 },
 "nbformat": 4,
 "nbformat_minor": 2
}
